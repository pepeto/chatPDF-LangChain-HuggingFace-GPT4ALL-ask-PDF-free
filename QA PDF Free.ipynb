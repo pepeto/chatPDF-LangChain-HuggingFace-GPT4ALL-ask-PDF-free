{
 "cells": [
  {
   "cell_type": "markdown",
   "id": "a08e7cfe",
   "metadata": {},
   "source": [
    "# QA PDF Free"
   ]
  },
  {
   "cell_type": "code",
   "execution_count": 1,
   "id": "83115d44",
   "metadata": {
    "ExecuteTime": {
     "end_time": "2023-05-13T15:00:40.067617Z",
     "start_time": "2023-05-13T15:00:36.767900Z"
    }
   },
   "outputs": [],
   "source": [
    "from langchain import PromptTemplate, LLMChain\n",
    "from langchain.llms import GPT4All\n",
    "from langchain.embeddings import HuggingFaceEmbeddings\n",
    "from langchain.vectorstores import Chroma\n",
    "from langchain.document_loaders import PyPDFLoader\n",
    "from langchain.document_loaders import UnstructuredPDFLoader\n",
    "from langchain.chains.question_answering import load_qa_chain\n",
    "from langchain.callbacks.streaming_stdout import StreamingStdOutCallbackHandler"
   ]
  },
  {
   "cell_type": "markdown",
   "id": "9076ca8c",
   "metadata": {},
   "source": [
    "## Loads PDF and Splits into Chunks"
   ]
  },
  {
   "cell_type": "code",
   "execution_count": 2,
   "id": "1bb71448",
   "metadata": {
    "ExecuteTime": {
     "end_time": "2023-05-13T15:08:48.537984Z",
     "start_time": "2023-05-13T15:00:40.068604Z"
    }
   },
   "outputs": [
    {
     "name": "stderr",
     "output_type": "stream",
     "text": [
      "detectron2 is not installed. Cannot use the hi_res partitioning strategy. Falling back to partitioning with another strategy.\n",
      "Falling back to partitioning with ocr_only.\n"
     ]
    }
   ],
   "source": [
    "# It took 8 minutes to get a 350 pages pdf.\n",
    "loader = UnstructuredPDFLoader(\"d:\\\\- downloads\\\\zfilo.pdf\")\n",
    "#loader = PyPDFLoader(\"d:\\\\- downloads\\\\zfilo.pdf\")\n",
    "pages = loader.load_and_split() # Cuts automatically in 4000 caracters."
   ]
  },
  {
   "cell_type": "markdown",
   "id": "da440085",
   "metadata": {},
   "source": [
    "## Creates Embeddings and Stores them in Chroma"
   ]
  },
  {
   "cell_type": "code",
   "execution_count": 3,
   "id": "90d38ccc",
   "metadata": {
    "ExecuteTime": {
     "end_time": "2023-05-13T15:09:17.057375Z",
     "start_time": "2023-05-13T15:08:48.538986Z"
    }
   },
   "outputs": [
    {
     "name": "stderr",
     "output_type": "stream",
     "text": [
      "NOTE: Redirects are currently not supported in Windows or MacOs.\n"
     ]
    }
   ],
   "source": [
    "model_name = \"sentence-transformers/all-mpnet-base-v2\"\n",
    "model_kwargs = {'device': 'cpu'} # cuda if you have GPU\n",
    "\n",
    "embeddings = HuggingFaceEmbeddings(\n",
    "    model_name=model_name, \n",
    "    model_kwargs=model_kwargs\n",
    ")"
   ]
  },
  {
   "cell_type": "code",
   "execution_count": 4,
   "id": "281055a4",
   "metadata": {
    "ExecuteTime": {
     "end_time": "2023-05-13T15:10:14.155866Z",
     "start_time": "2023-05-13T15:09:17.059377Z"
    }
   },
   "outputs": [
    {
     "name": "stdout",
     "output_type": "stream",
     "text": [
      "Running Chroma using direct local API.\n",
      "Using DuckDB in-memory for database. Data will be transient.\n"
     ]
    }
   ],
   "source": [
    "docsearch = Chroma.from_documents(pages, embeddings).as_retriever()"
   ]
  },
  {
   "cell_type": "markdown",
   "id": "e30c1342",
   "metadata": {},
   "source": [
    "## Search for the most relevant chunks for the question"
   ]
  },
  {
   "cell_type": "code",
   "execution_count": 5,
   "id": "850498c6",
   "metadata": {
    "ExecuteTime": {
     "end_time": "2023-05-13T15:10:14.201866Z",
     "start_time": "2023-05-13T15:10:14.156867Z"
    }
   },
   "outputs": [],
   "source": [
    "query = \"What was Aristoteles cosmogony?\"\n",
    "question = query\n",
    "# Looks for the more representative chunks in Chroma db.\n",
    "docs = docsearch.get_relevant_documents(query)"
   ]
  },
  {
   "cell_type": "markdown",
   "id": "2c5c4674",
   "metadata": {},
   "source": [
    "# Put all the pieces together"
   ]
  },
  {
   "cell_type": "markdown",
   "id": "19ccc777",
   "metadata": {},
   "source": [
    "### Opens HuggingFace Model"
   ]
  },
  {
   "cell_type": "code",
   "execution_count": 6,
   "id": "bd3142c2",
   "metadata": {
    "ExecuteTime": {
     "end_time": "2023-05-13T15:10:27.134934Z",
     "start_time": "2023-05-13T15:10:14.202865Z"
    }
   },
   "outputs": [],
   "source": [
    "from langchain import HuggingFacePipeline\n",
    "\n",
    "model_id=\"bigscience/bloom-1b7\"\n",
    "llm = HuggingFacePipeline.from_model_id(\n",
    "    model_id=model_id, \n",
    "    model_kwargs={\"temperature\":0}, #, \"max_length\":64 , \"max_length\":300\n",
    "    task=\"text-generation\"\n",
    "    ) "
   ]
  },
  {
   "cell_type": "code",
   "execution_count": 7,
   "id": "0d321e17",
   "metadata": {
    "ExecuteTime": {
     "end_time": "2023-05-13T15:10:27.149935Z",
     "start_time": "2023-05-13T15:10:27.135935Z"
    }
   },
   "outputs": [],
   "source": [
    "# https://gpt4all.io/models/ggml-gpt4all-l13b-snoozy.bin\n",
    "local_path = 'm:\\GPT4ALL\\MODELS\\ggml-gpt4all-l13b-snoozy.bin'"
   ]
  },
  {
   "cell_type": "code",
   "execution_count": 8,
   "id": "e3b583e9",
   "metadata": {
    "ExecuteTime": {
     "end_time": "2023-05-13T15:10:27.165936Z",
     "start_time": "2023-05-13T15:10:27.150936Z"
    }
   },
   "outputs": [],
   "source": [
    "template = \"\"\"Question: {question}\n",
    "Answer: \"\"\"\n",
    "\n",
    "prompt3 = PromptTemplate(template=template, input_variables=[\"question\"])"
   ]
  },
  {
   "cell_type": "code",
   "execution_count": 9,
   "id": "2b760c7b",
   "metadata": {
    "ExecuteTime": {
     "end_time": "2023-05-13T15:10:28.223934Z",
     "start_time": "2023-05-13T15:10:27.166936Z"
    }
   },
   "outputs": [],
   "source": [
    "llm = GPT4All(\n",
    "    model=local_path, \n",
    "    verbose=False, \n",
    "    n_threads=8\n",
    ")"
   ]
  },
  {
   "cell_type": "code",
   "execution_count": 10,
   "id": "c421ecf7",
   "metadata": {
    "ExecuteTime": {
     "end_time": "2023-05-13T15:10:28.238934Z",
     "start_time": "2023-05-13T15:10:28.225935Z"
    }
   },
   "outputs": [],
   "source": [
    "llm_chain = LLMChain(prompt=prompt3, llm=llm) # , max_new_tokens=50"
   ]
  },
  {
   "cell_type": "code",
   "execution_count": 11,
   "id": "58bd9928",
   "metadata": {
    "ExecuteTime": {
     "end_time": "2023-05-13T15:11:05.628987Z",
     "start_time": "2023-05-13T15:10:28.239935Z"
    }
   },
   "outputs": [
    {
     "data": {
      "text/plain": [
       "\"Aristotle's cosmology is his philosophy of the nature and origins of reality, including its physical universe. He divided time into two periods; Chronos (the god who measures or regulates time) existed before all else that exists, whereas Aeternus had no existence yet as a temporal being. In other words he believed in an infinite eternal past which always is and never was but will be again hence the endless cycle of life after death according to his view\""
      ]
     },
     "execution_count": 11,
     "metadata": {},
     "output_type": "execute_result"
    }
   ],
   "source": [
    "#llm_chain.run(query)\n",
    "resp = llm_chain.run(input_documents=docs, question=query, max_new_tokens=50)\n",
    "resp"
   ]
  },
  {
   "cell_type": "code",
   "execution_count": null,
   "id": "e579b65e",
   "metadata": {},
   "outputs": [],
   "source": []
  },
  {
   "cell_type": "code",
   "execution_count": null,
   "id": "beacef08",
   "metadata": {},
   "outputs": [],
   "source": []
  },
  {
   "cell_type": "code",
   "execution_count": null,
   "id": "04adee66",
   "metadata": {},
   "outputs": [],
   "source": []
  },
  {
   "cell_type": "code",
   "execution_count": null,
   "id": "4217d6d2",
   "metadata": {},
   "outputs": [],
   "source": []
  },
  {
   "cell_type": "code",
   "execution_count": null,
   "id": "4d4d7e83",
   "metadata": {},
   "outputs": [],
   "source": []
  },
  {
   "cell_type": "code",
   "execution_count": null,
   "id": "c6addebc",
   "metadata": {},
   "outputs": [],
   "source": []
  },
  {
   "cell_type": "code",
   "execution_count": null,
   "id": "61f91455",
   "metadata": {},
   "outputs": [],
   "source": []
  },
  {
   "cell_type": "code",
   "execution_count": null,
   "id": "c7ca0dce",
   "metadata": {},
   "outputs": [],
   "source": []
  },
  {
   "cell_type": "code",
   "execution_count": null,
   "id": "2a8aa74f",
   "metadata": {},
   "outputs": [],
   "source": []
  },
  {
   "cell_type": "code",
   "execution_count": null,
   "id": "c0d43b8f",
   "metadata": {},
   "outputs": [],
   "source": []
  },
  {
   "cell_type": "code",
   "execution_count": null,
   "id": "728768cc",
   "metadata": {},
   "outputs": [],
   "source": []
  },
  {
   "cell_type": "code",
   "execution_count": null,
   "id": "a19677a4",
   "metadata": {},
   "outputs": [],
   "source": []
  },
  {
   "cell_type": "code",
   "execution_count": null,
   "id": "9a12b2c1",
   "metadata": {},
   "outputs": [],
   "source": []
  }
 ],
 "metadata": {
  "kernelspec": {
   "display_name": "Python 3 (ipykernel)",
   "language": "python",
   "name": "python3"
  },
  "language_info": {
   "codemirror_mode": {
    "name": "ipython",
    "version": 3
   },
   "file_extension": ".py",
   "mimetype": "text/x-python",
   "name": "python",
   "nbconvert_exporter": "python",
   "pygments_lexer": "ipython3",
   "version": "3.9.13"
  },
  "notify_time": "5"
 },
 "nbformat": 4,
 "nbformat_minor": 5
}
